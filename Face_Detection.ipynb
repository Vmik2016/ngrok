{
  "nbformat": 4,
  "nbformat_minor": 0,
  "metadata": {
    "colab": {
      "name": "Face Detection.ipynb",
      "provenance": [],
      "collapsed_sections": [],
      "authorship_tag": "ABX9TyNpj+6T1X1/04rgfOb+SvAR",
      "include_colab_link": true
    },
    "kernelspec": {
      "name": "python3",
      "display_name": "Python 3"
    }
  },
  "cells": [
    {
      "cell_type": "markdown",
      "metadata": {
        "id": "view-in-github",
        "colab_type": "text"
      },
      "source": [
        "<a href=\"https://colab.research.google.com/github/Vmik2016/ngrok/blob/main/Face_Detection.ipynb\" target=\"_parent\"><img src=\"https://colab.research.google.com/assets/colab-badge.svg\" alt=\"Open In Colab\"/></a>"
      ]
    },
    {
      "cell_type": "code",
      "metadata": {
        "id": "anRLgHVEyxbR"
      },
      "source": [
        "!pip install streamlit"
      ],
      "execution_count": null,
      "outputs": []
    },
    {
      "cell_type": "code",
      "metadata": {
        "id": "HHoV5kEvyofH",
        "outputId": "edad8602-6380-4238-de6e-878a73c4029c",
        "colab": {
          "base_uri": "https://localhost:8080/"
        }
      },
      "source": [
        "# Core Pkgs\n",
        "%%writefile app.py\n",
        "import streamlit as st \n",
        "import cv2\n",
        "from PIL import Image,ImageEnhance\n",
        "import numpy as np \n",
        "import os\n",
        "\n",
        "#@st.cache\n",
        "def load_image(img):\n",
        "\tim = Image.open(img)\n",
        "\treturn im\n",
        "\n",
        "\n",
        "face_cascade = cv2.CascadeClassifier('frecog/haarcascade_frontalface_default.xml')\n",
        "eye_cascade = cv2.CascadeClassifier('frecog/haarcascade_eye.xml')\n",
        "smile_cascade = cv2.CascadeClassifier('frecog/haarcascade_smile.xml')\n",
        "\n",
        "def detect_faces(our_image):\n",
        "\tnew_img = np.array(our_image.convert('RGB'))\n",
        "\timg = cv2.cvtColor(new_img,1)\n",
        "\tgray = cv2.cvtColor(new_img, cv2.COLOR_BGR2GRAY)\n",
        "\t# Detect faces\n",
        "\tfaces = face_cascade.detectMultiScale(gray, 1.1, 4)\n",
        "\t# Draw rectangle around the faces\n",
        "\tfor (x, y, w, h) in faces:\n",
        "\t\t\t\t cv2.rectangle(img, (x, y), (x+w, y+h), (255, 0, 0), 2)\n",
        "\treturn img,faces \n",
        "\n",
        "\n",
        "def detect_eyes(our_image):\n",
        "\tnew_img = np.array(our_image.convert('RGB'))\n",
        "\timg = cv2.cvtColor(new_img,1)\n",
        "\tgray = cv2.cvtColor(new_img, cv2.COLOR_BGR2GRAY)\n",
        "\teyes = eye_cascade.detectMultiScale(gray, 1.3, 5)\n",
        "\tfor (ex,ey,ew,eh) in eyes:\n",
        "\t        cv2.rectangle(img,(ex,ey),(ex+ew,ey+eh),(0,255,0),2)\n",
        "\treturn img\n",
        "\n",
        "def detect_smiles(our_image):\n",
        "\tnew_img = np.array(our_image.convert('RGB'))\n",
        "\timg = cv2.cvtColor(new_img,1)\n",
        "\tgray = cv2.cvtColor(new_img, cv2.COLOR_BGR2GRAY)\n",
        "\t# Detect Smiles\n",
        "\tsmiles = smile_cascade.detectMultiScale(gray, 1.1, 4)\n",
        "\t# Draw rectangle around the Smiles\n",
        "\tfor (x, y, w, h) in smiles:\n",
        "\t    cv2.rectangle(img, (x, y), (x+w, y+h), (255, 0, 0), 2)\n",
        "\treturn img\n",
        "\n",
        "def cartonize_image(our_image):\n",
        "\tnew_img = np.array(our_image.convert('RGB'))\n",
        "\timg = cv2.cvtColor(new_img,1)\n",
        "\tgray = cv2.cvtColor(new_img, cv2.COLOR_BGR2GRAY)\n",
        "\t# Edges\n",
        "\tgray = cv2.medianBlur(gray, 5)\n",
        "\tedges = cv2.adaptiveThreshold(gray, 255, cv2.ADAPTIVE_THRESH_MEAN_C, cv2.THRESH_BINARY, 9, 9)\n",
        "\t#Color\n",
        "\tcolor = cv2.bilateralFilter(img, 9, 300, 300)\n",
        "\t#Cartoon\n",
        "\tcartoon = cv2.bitwise_and(color, color, mask=edges)\n",
        "\n",
        "\treturn cartoon\n",
        "\n",
        "\n",
        "def cannize_image(our_image):\n",
        "\tnew_img = np.array(our_image.convert('RGB'))\n",
        "\timg = cv2.cvtColor(new_img,1)\n",
        "\timg = cv2.GaussianBlur(img, (11, 11), 0)\n",
        "\tcanny = cv2.Canny(img, 100, 150)\n",
        "\treturn canny\n",
        "\n",
        "def main():\n",
        "\t\"\"\"Face Detection App\"\"\"\n",
        "\n",
        "\tst.title(\"Face Detection App\")\n",
        "\tst.text(\"Build with Streamlit and OpenCV\")\n",
        "\n",
        "\tactivities = [\"Detection\",\"About\"]\n",
        "\tchoice = st.sidebar.selectbox(\"Select Activty\",activities)\n",
        "\n",
        "\tif choice == 'Detection':\n",
        "\t\tst.subheader(\"Face Detection\")\n",
        "\n",
        "\t\timage_file = st.file_uploader(\"Upload Image\",type=['jpg','png','jpeg'])\n",
        "\n",
        "\t\tif image_file is not None:\n",
        "\t\t\tour_image = Image.open(image_file)\n",
        "\t\t\tst.text(\"Original Image\")\n",
        "\t\t\t# st.write(type(our_image))\n",
        "\t\t\tst.image(our_image)\n",
        "\n",
        "\t\t\tenhance_type = st.sidebar.radio(\"Enhance Type\",[\"Original\",\"Gray-Scale\",\"Contrast\",\"Brightness\",\"Blurring\"])\n",
        "\t\t\tif enhance_type == 'Gray-Scale':\n",
        "\t\t\t\tnew_img = np.array(our_image.convert('RGB'))\n",
        "\t\t\t\timg = cv2.cvtColor(new_img,1)\n",
        "\t\t\t\tgray = cv2.cvtColor(img,cv2.COLOR_BGR2GRAY)\n",
        "\t\t\t\t# st.write(new_img)\n",
        "\t\t\t\tst.image(gray)\n",
        "\t\t\telif enhance_type == 'Contrast':\n",
        "\t\t\t\tc_rate = st.sidebar.slider(\"Contrast\",0.5,3.5)\n",
        "\t\t\t\tenhancer = ImageEnhance.Contrast(our_image)\n",
        "\t\t\t\timg_output = enhancer.enhance(c_rate)\n",
        "\t\t\t\tst.image(img_output)\n",
        "\n",
        "\t\t\telif enhance_type == 'Brightness':\n",
        "\t\t\t\tc_rate = st.sidebar.slider(\"Brightness\",0.5,3.5)\n",
        "\t\t\t\tenhancer = ImageEnhance.Brightness(our_image)\n",
        "\t\t\t\timg_output = enhancer.enhance(c_rate)\n",
        "\t\t\t\tst.image(img_output)\n",
        "\n",
        "\t\t\telif enhance_type == 'Blurring':\n",
        "\t\t\t\tnew_img = np.array(our_image.convert('RGB'))\n",
        "\t\t\t\tblur_rate = st.sidebar.slider(\"Brightness\",0.5,3.5)\n",
        "\t\t\t\timg = cv2.cvtColor(new_img,1)\n",
        "\t\t\t\tblur_img = cv2.GaussianBlur(img,(11,11),blur_rate)\n",
        "\t\t\t\tst.image(blur_img)\n",
        "\t\t\telif enhance_type == 'Original':\n",
        "\t\t\t\t\n",
        "\t\t\t\tst.image(our_image,width=300)\n",
        "\t\t\telse:\n",
        "\t\t\t\tst.image(our_image,width=300)\n",
        "\n",
        "\n",
        "\t\t# Face Detection\n",
        "\t\ttask = [\"Faces\",\"Smiles\",\"Eyes\",\"Cannize\",\"Cartonize\"]\n",
        "\t\tfeature_choice = st.sidebar.selectbox(\"Find Features\",task)\n",
        "\t\tif st.button(\"Process\"):\n",
        "\n",
        "\t\t\tif feature_choice == 'Faces':\n",
        "\t\t\t\tresult_img,result_faces = detect_faces(our_image)\n",
        "\t\t\t\tst.image(result_img)\n",
        "\n",
        "\t\t\t\tst.success(\"Found {} faces\".format(len(result_faces)))\n",
        "\t\t\telif feature_choice == 'Smiles':\n",
        "\t\t\t\tresult_img = detect_smiles(our_image)\n",
        "\t\t\t\tst.image(result_img)\n",
        "\n",
        "\n",
        "\t\t\telif feature_choice == 'Eyes':\n",
        "\t\t\t\tresult_img = detect_eyes(our_image)\n",
        "\t\t\t\tst.image(result_img)\n",
        "\n",
        "\t\t\telif feature_choice == 'Cartonize':\n",
        "\t\t\t\tresult_img = cartonize_image(our_image)\n",
        "\t\t\t\tst.image(result_img)\n",
        "\n",
        "\t\t\telif feature_choice == 'Cannize':\n",
        "\t\t\t\tresult_canny = cannize_image(our_image)\n",
        "\t\t\t\tst.image(result_canny)\n",
        "\n",
        "\n",
        "\n",
        "\n",
        "\telif choice == 'About':\n",
        "\t\tst.subheader(\"About Face Detection App\")\n",
        "\t\tst.markdown(\"Built with Streamlit by [Gourav Ojha](https://github.com/gouravojha)\")\n",
        "\t\tst.text(\"Gourav Ojha\")\n",
        "\t\t\n",
        "\n",
        "\n",
        "\n",
        "if __name__ == '__main__':\n",
        "\t\tmain()\t"
      ],
      "execution_count": 5,
      "outputs": [
        {
          "output_type": "stream",
          "text": [
            "Writing app.py\n"
          ],
          "name": "stdout"
        }
      ]
    },
    {
      "cell_type": "code",
      "metadata": {
        "id": "G3SPPFUnzZ2w"
      },
      "source": [
        "!streamlit run app.py&>/dev/null&"
      ],
      "execution_count": 21,
      "outputs": []
    },
    {
      "cell_type": "code",
      "metadata": {
        "id": "spN5RaON0IEm",
        "outputId": "b881aea9-5348-44a0-9b0f-66039b39196c",
        "colab": {
          "base_uri": "https://localhost:8080/"
        }
      },
      "source": [
        "!wget https://bin.equinox.io/c/4VmDzA7iaHb/ngrok-stable-linux-amd64.zip\n",
        "!unzip -qq ngrok-stable-linux-amd64.zip"
      ],
      "execution_count": 8,
      "outputs": [
        {
          "output_type": "stream",
          "text": [
            "--2020-11-09 07:03:08--  https://bin.equinox.io/c/4VmDzA7iaHb/ngrok-stable-linux-amd64.zip\n",
            "Resolving bin.equinox.io (bin.equinox.io)... 52.203.100.2, 54.164.74.108, 35.174.46.144, ...\n",
            "Connecting to bin.equinox.io (bin.equinox.io)|52.203.100.2|:443... connected.\n",
            "HTTP request sent, awaiting response... 200 OK\n",
            "Length: 13773305 (13M) [application/octet-stream]\n",
            "Saving to: ‘ngrok-stable-linux-amd64.zip’\n",
            "\n",
            "ngrok-stable-linux- 100%[===================>]  13.13M  42.8MB/s    in 0.3s    \n",
            "\n",
            "2020-11-09 07:03:08 (42.8 MB/s) - ‘ngrok-stable-linux-amd64.zip’ saved [13773305/13773305]\n",
            "\n"
          ],
          "name": "stdout"
        }
      ]
    },
    {
      "cell_type": "code",
      "metadata": {
        "id": "VjaXi5sv0PYS",
        "outputId": "3f37ffe2-2247-4331-f6ff-0c29cf8f707b",
        "colab": {
          "base_uri": "https://localhost:8080/"
        }
      },
      "source": [
        "!ls"
      ],
      "execution_count": 10,
      "outputs": [
        {
          "output_type": "stream",
          "text": [
            "app.py\tngrok  ngrok-stable-linux-amd64.zip  sample_data\n"
          ],
          "name": "stdout"
        }
      ]
    },
    {
      "cell_type": "code",
      "metadata": {
        "id": "m2cQ1i4C0EDi",
        "outputId": "1f35117c-ed17-4be7-fc56-3560d54407ad",
        "colab": {
          "base_uri": "https://localhost:8080/"
        }
      },
      "source": [
        "get_ipython().system_raw('./ngrok http 8501 &')\n",
        "# А где адрес?\n",
        "! curl -s http://localhost:4040/api/tunnels | python3 -c \\\n",
        "    \"import sys, json; print(json.load(sys.stdin)['tunnels'][1]['public_url'])\""
      ],
      "execution_count": 23,
      "outputs": [
        {
          "output_type": "stream",
          "text": [
            "http://12e7410547c7.ngrok.io\n"
          ],
          "name": "stdout"
        }
      ]
    },
    {
      "cell_type": "code",
      "metadata": {
        "id": "yxta87GP0c53",
        "outputId": "7bc5ce84-134c-49db-fe90-d8e6cf7f3b60",
        "colab": {
          "base_uri": "https://localhost:8080/"
        }
      },
      "source": [
        "!lsof -i -P -n"
      ],
      "execution_count": 24,
      "outputs": [
        {
          "output_type": "stream",
          "text": [
            "COMMAND   PID USER   FD   TYPE DEVICE SIZE/OFF NODE NAME\n",
            "node       38 root   19u  IPv6  19066      0t0  TCP *:8080 (LISTEN)\n",
            "node       38 root   23u  IPv6  71765      0t0  TCP 172.28.0.2:8080->172.28.0.1:33056 (ESTABLISHED)\n",
            "node       38 root   24u  IPv4  24713      0t0  TCP 172.28.0.2:50382->172.28.0.3:6000 (ESTABLISHED)\n",
            "node       38 root   25u  IPv6  71933      0t0  TCP 172.28.0.2:8080->172.28.0.1:33076 (ESTABLISHED)\n",
            "jupyter-n  49 root    3u  IPv4  20064      0t0  TCP 172.28.0.2:9000 (LISTEN)\n",
            "jupyter-n  49 root    7u  IPv4  19167      0t0  TCP 172.28.0.2:9000->172.28.0.3:43604 (ESTABLISHED)\n",
            "jupyter-n  49 root   27u  IPv4  24209      0t0  TCP 172.28.0.2:9000->172.28.0.3:43728 (ESTABLISHED)\n",
            "jupyter-n  49 root   30u  IPv4  28245      0t0  TCP 127.0.0.1:57244->127.0.0.1:48423 (ESTABLISHED)\n",
            "jupyter-n  49 root   33u  IPv4  28247      0t0  TCP 127.0.0.1:41108->127.0.0.1:53423 (ESTABLISHED)\n",
            "jupyter-n  49 root   37u  IPv4  28251      0t0  TCP 127.0.0.1:48750->127.0.0.1:36057 (ESTABLISHED)\n",
            "jupyter-n  49 root   38u  IPv4  28253      0t0  TCP 127.0.0.1:56664->127.0.0.1:50073 (ESTABLISHED)\n",
            "jupyter-n  49 root   39u  IPv4  28254      0t0  TCP 127.0.0.1:41116->127.0.0.1:53423 (ESTABLISHED)\n",
            "python3   121 root   19u  IPv4  28999      0t0  TCP 127.0.0.1:50073 (LISTEN)\n",
            "python3   121 root   23u  IPv4  29003      0t0  TCP 127.0.0.1:36057 (LISTEN)\n",
            "python3   121 root   26u  IPv4  29007      0t0  TCP 127.0.0.1:48423 (LISTEN)\n",
            "python3   121 root   29u  IPv4  29011      0t0  TCP 127.0.0.1:53423 (LISTEN)\n",
            "python3   121 root   35u  IPv4  29017      0t0  TCP 127.0.0.1:34349 (LISTEN)\n",
            "python3   121 root   48u  IPv4  29022      0t0  TCP 127.0.0.1:47761 (LISTEN)\n",
            "python3   121 root   52u  IPv4  28246      0t0  TCP 127.0.0.1:48423->127.0.0.1:57244 (ESTABLISHED)\n",
            "python3   121 root   53u  IPv4  28248      0t0  TCP 127.0.0.1:53423->127.0.0.1:41108 (ESTABLISHED)\n",
            "python3   121 root   55u  IPv4  28252      0t0  TCP 127.0.0.1:36057->127.0.0.1:48750 (ESTABLISHED)\n",
            "python3   121 root   56u  IPv4  28255      0t0  TCP 127.0.0.1:50073->127.0.0.1:56664 (ESTABLISHED)\n",
            "python3   121 root   57u  IPv4  28256      0t0  TCP 127.0.0.1:53423->127.0.0.1:41116 (ESTABLISHED)\n",
            "ngrok     258 root    3u  IPv4  54338      0t0  TCP 127.0.0.1:45216->127.0.0.1:8501 (ESTABLISHED)\n",
            "ngrok     258 root    5u  IPv4  50426      0t0  TCP 172.28.0.2:36396->3.134.73.173:443 (ESTABLISHED)\n",
            "ngrok     258 root    7u  IPv4  50422      0t0  TCP 127.0.0.1:4040 (LISTEN)\n",
            "streamlit 275 root    8u  IPv4  49854      0t0  TCP *:8501 (LISTEN)\n",
            "streamlit 275 root    9u  IPv6  49855      0t0  TCP *:8501 (LISTEN)\n",
            "streamlit 275 root   11u  IPv4  53884      0t0  TCP 127.0.0.1:8501->127.0.0.1:45216 (ESTABLISHED)\n",
            "ngrok     299 root    3u  IPv4  52139      0t0  TCP 127.0.0.1:4041 (LISTEN)\n",
            "ngrok     299 root    6u  IPv4  53733      0t0  TCP 172.28.0.2:57376->3.12.62.205:443 (ESTABLISHED)\n"
          ],
          "name": "stdout"
        }
      ]
    }
  ]
}