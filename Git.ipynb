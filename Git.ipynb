{
  "nbformat": 4,
  "nbformat_minor": 0,
  "metadata": {
    "colab": {
      "name": "Git.ipynb",
      "provenance": [],
      "authorship_tag": "ABX9TyNQcJwSz9S5GoZED2P39ciC",
      "include_colab_link": true
    },
    "kernelspec": {
      "name": "python3",
      "display_name": "Python 3"
    }
  },
  "cells": [
    {
      "cell_type": "markdown",
      "metadata": {
        "id": "view-in-github",
        "colab_type": "text"
      },
      "source": [
        "<a href=\"https://colab.research.google.com/github/Vmik2016/ngrok/blob/main/Git.ipynb\" target=\"_parent\"><img src=\"https://colab.research.google.com/assets/colab-badge.svg\" alt=\"Open In Colab\"/></a>"
      ]
    },
    {
      "cell_type": "code",
      "metadata": {
        "id": "T0lux5y7Yw7c",
        "outputId": "a777a4e9-d9a4-4795-95b6-d677e7613d25",
        "colab": {
          "base_uri": "https://localhost:8080/"
        }
      },
      "source": [
        "!sudo apt install git"
      ],
      "execution_count": 7,
      "outputs": [
        {
          "output_type": "stream",
          "text": [
            "Reading package lists... Done\n",
            "Building dependency tree       \n",
            "Reading state information... Done\n",
            "git is already the newest version (1:2.17.1-1ubuntu0.7).\n",
            "0 upgraded, 0 newly installed, 0 to remove and 11 not upgraded.\n"
          ],
          "name": "stdout"
        }
      ]
    },
    {
      "cell_type": "code",
      "metadata": {
        "id": "aPVoGXMLVhmy",
        "outputId": "c6f184cd-64b6-4e61-b603-2229e780aeac",
        "colab": {
          "base_uri": "https://localhost:8080/"
        }
      },
      "source": [
        "#  Так не работает вообще\n",
        "!git clone https://github.com/Vmik2016/ngrok/blob/main/my_3.py\n",
        "%cd ngrok\n",
        "!ls"
      ],
      "execution_count": 4,
      "outputs": [
        {
          "output_type": "stream",
          "text": [
            "Cloning into 'my_3.py'...\n",
            "fatal: repository 'https://github.com/Vmik2016/ngrok/blob/main/my_3.py/' not found\n",
            "/content/ngrok\n",
            "my_3.py\n"
          ],
          "name": "stdout"
        }
      ]
    },
    {
      "cell_type": "code",
      "metadata": {
        "id": "GV3OX626WCgT",
        "outputId": "a17ff9a9-adbc-4a28-fda1-df1ccf92a4c0",
        "colab": {
          "base_uri": "https://localhost:8080/"
        }
      },
      "source": [
        "#Так копирует весь GIT. Создает папку и в нее пишет мой файл\n",
        "!git clone https://github.com/Vmik2016/ngrok"
      ],
      "execution_count": 2,
      "outputs": [
        {
          "output_type": "stream",
          "text": [
            "Cloning into 'ngrok'...\n",
            "remote: Enumerating objects: 3, done.\u001b[K\n",
            "remote: Counting objects: 100% (3/3), done.\u001b[K\n",
            "remote: Total 3 (delta 0), reused 0 (delta 0), pack-reused 0\u001b[K\n",
            "Unpacking objects: 100% (3/3), done.\n"
          ],
          "name": "stdout"
        }
      ]
    },
    {
      "cell_type": "code",
      "metadata": {
        "id": "q3ankrxrWOqt"
      },
      "source": [
        "%load my_3.py"
      ],
      "execution_count": 6,
      "outputs": []
    }
  ]
}